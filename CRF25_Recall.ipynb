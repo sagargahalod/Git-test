{
  "nbformat": 4,
  "nbformat_minor": 0,
  "metadata": {
    "colab": {
      "name": "CRF25-Recall.ipynb",
      "provenance": [],
      "collapsed_sections": [],
      "authorship_tag": "ABX9TyOBZtDnIgrLj6ZhpY0VPb9S",
      "include_colab_link": true
    },
    "kernelspec": {
      "name": "python3",
      "display_name": "Python 3"
    },
    "language_info": {
      "name": "python"
    }
  },
  "cells": [
    {
      "cell_type": "markdown",
      "metadata": {
        "id": "view-in-github",
        "colab_type": "text"
      },
      "source": [
        "<a href=\"https://colab.research.google.com/github/sagargahalod/Git-test/blob/branch1/CRF25_Recall.ipynb\" target=\"_parent\"><img src=\"https://colab.research.google.com/assets/colab-badge.svg\" alt=\"Open In Colab\"/></a>"
      ]
    },
    {
      "cell_type": "code",
      "metadata": {
        "id": "UR1dEP9h487p"
      },
      "source": [
        "import json\n",
        "import pandas as pd"
      ],
      "execution_count": 81,
      "outputs": []
    },
    {
      "cell_type": "code",
      "metadata": {
        "id": "eV2lUrYi5dC0"
      },
      "source": [
        "with open(\"CFR25_GroundTruth.json\", encoding='utf-8', errors='ignore') as json_data:\n",
        "    GT = json.load(json_data, strict=False)\n",
        "\n",
        "\n"
      ],
      "execution_count": 220,
      "outputs": []
    },
    {
      "cell_type": "code",
      "metadata": {
        "id": "5k2gmTRX5ix4"
      },
      "source": [
        "with open(\"CFR25_diff.json\", encoding='utf-8', errors='ignore') as json_data1:\n",
        "    diff = json.load(json_data1, strict=False)\n",
        "\n"
      ],
      "execution_count": 212,
      "outputs": []
    },
    {
      "cell_type": "code",
      "metadata": {
        "id": "ydi4pW2L5lN_"
      },
      "source": [
        "LCW_Total = GT_Total = 0\n",
        "\n",
        "Add_tot = Del_tol = Mod_tot = Identical_tot = 0\n",
        "\n",
        "Mean_list = []"
      ],
      "execution_count": 84,
      "outputs": []
    },
    {
      "cell_type": "code",
      "metadata": {
        "id": "kTAgoBP1VHw-"
      },
      "source": [
        "def Recall(LCW_Total,GT_Total):\n",
        "  #calculation id level average\n",
        "  Idrecall = LCW_Total / GT_Total\n",
        "  print('The recall for id {0} is : {1}'.format(GT_Total.key,Idrecall))\n",
        "  Mean_list.append(Idrecall)\n",
        "  \n",
        "  \n",
        "  #calculation mean recall\n",
        "  Meanrecall = sum(Mean_list) / len(Mean_list)\n",
        "  print('The mean recall across the controls : {}'.format(Meanrecal))\n",
        "  return Idrecall , Meanrecall"
      ],
      "execution_count": 167,
      "outputs": []
    },
    {
      "cell_type": "code",
      "metadata": {
        "id": "t9lPX85y5p_u",
        "colab": {
          "base_uri": "https://localhost:8080/"
        },
        "outputId": "77799a4d-c50f-412b-e4d7-dec9014f2339"
      },
      "source": [
        "GT_Total1 = 0\n",
        "for gt in GT:\n",
        "  if gt['type'] in ('Added','Removed','Identical'):\n",
        "    GT_Total1 +=1 \n",
        "    print(gt['type'])\n",
        "print(GT_Total1)\n",
        "\n",
        "    #Recall(Tot)"
      ],
      "execution_count": 213,
      "outputs": [
        {
          "output_type": "stream",
          "text": [
            "Removed\n",
            "Added\n",
            "Added\n",
            "3\n"
          ],
          "name": "stdout"
        }
      ]
    },
    {
      "cell_type": "code",
      "metadata": {
        "colab": {
          "base_uri": "https://localhost:8080/"
        },
        "id": "Sj4gBb5gTiY1",
        "outputId": "7da1d84f-cfb9-42dc-852c-939780f0aa82"
      },
      "source": [
        "GT_Total = 0\n",
        "GT_id = {}\n",
        "LCW_list = []\n",
        "IDrecall_list = []\n",
        "for gt in GT:\n",
        "  if gt['type'] in ('Added','Removed','Identical'):\n",
        "    GT_Total +=1 \n",
        "\n",
        "  if gt['type'] == 'Modified':  \n",
        "    GT_Total +=1     \n",
        "  if gt['IdChange'] == \"true\":\n",
        "    GT_Total +=1  \n",
        "  if gt['Cntrl_Grp_Change'] == 'true':\n",
        "    GT_Total +=1    \n",
        "  if gt['Title_Change'] == 'true':\n",
        "    GT_Total +=1\n",
        "    \n",
        "  #counting the changes related to subpart level\n",
        "   \n",
        "  GT_Total = GT_Total + len(gt['sub_identical']) + len(gt['sub_added']) + len(gt['sub_removed']) + len(gt['sub_modified'])\n",
        "  GT_id[gt['id']] = GT_Total \n",
        "\n",
        "  print('Actual changes as per the Groundtruth for ID {0} : {1}'.format(gt['id'],GT_Total)) \n",
        "   \n",
        "  \n",
        "  Tool_result = comparison(gt)\n",
        "  print('Changes captured by the tool for ID {0} : {1}'.format(gt['id'],Tool_result))\n",
        "  LCW_list.append(Tool_result)\n",
        "\n",
        "  ID_recall = (Tool_result/GT_Total)*100\n",
        "  \n",
        "  print('Recall for this ID : ',ID_recall)\n",
        "  print('\\n')\n",
        "  IDrecall_list.append(ID_recall)\n",
        "  GT_Total = 0\n",
        "\n",
        "Total_recall = sum(IDrecall_list)/len(IDrecall_list) \n",
        "print('Total reacall : ',Total_recall)\n",
        "\n",
        "\n"
      ],
      "execution_count": 231,
      "outputs": [
        {
          "output_type": "stream",
          "text": [
            "Actual changes as per the Groundtruth for ID 25.26 : 16\n",
            "Changes captured by the tool for ID 25.26 : 15\n",
            "Recall for this ID :  93.75\n",
            "\n",
            "\n",
            "Actual changes as per the Groundtruth for ID 25.21 : 9\n",
            "Changes captured by the tool for ID 25.21 : 8\n",
            "Recall for this ID :  88.88888888888889\n",
            "\n",
            "\n",
            "Actual changes as per the Groundtruth for ID 25.27 : 22\n",
            "Changes captured by the tool for ID 25.27 : 18\n",
            "Recall for this ID :  81.81818181818183\n",
            "\n",
            "\n",
            "Actual changes as per the Groundtruth for ID 25.63 : 6\n",
            "Changes captured by the tool for ID 25.63 : 6\n",
            "Recall for this ID :  100.0\n",
            "\n",
            "\n",
            "Actual changes as per the Groundtruth for ID 25.12 : 5\n",
            "Changes captured by the tool for ID 25.12 : 3\n",
            "Recall for this ID :  60.0\n",
            "\n",
            "\n",
            "Actual changes as per the Groundtruth for ID 25.25 : 14\n",
            "Changes captured by the tool for ID 25.25 : 11\n",
            "Recall for this ID :  78.57142857142857\n",
            "\n",
            "\n",
            "Actual changes as per the Groundtruth for ID 25.11 : 10\n",
            "Changes captured by the tool for ID 25.11 : 10\n",
            "Recall for this ID :  100.0\n",
            "\n",
            "\n",
            "Actual changes as per the Groundtruth for ID 25.43 : 16\n",
            "Changes captured by the tool for ID 25.43 : 14\n",
            "Recall for this ID :  87.5\n",
            "\n",
            "\n",
            "Actual changes as per the Groundtruth for ID 25.41 : 13\n",
            "Changes captured by the tool for ID 25.41 : 12\n",
            "Recall for this ID :  92.3076923076923\n",
            "\n",
            "\n",
            "Actual changes as per the Groundtruth for ID 25.44 : 3\n",
            "Changes captured by the tool for ID 25.44 : 3\n",
            "Recall for this ID :  100.0\n",
            "\n",
            "\n",
            "Actual changes as per the Groundtruth for ID 25.64 : 11\n",
            "Changes captured by the tool for ID 25.64 : 11\n",
            "Recall for this ID :  100.0\n",
            "\n",
            "\n",
            "Actual changes as per the Groundtruth for ID 25.28 : 1\n",
            "Changes captured by the tool for ID 25.28 : 1\n",
            "Recall for this ID :  100.0\n",
            "\n",
            "\n",
            "Actual changes as per the Groundtruth for ID 25.19 : 1\n",
            "Changes captured by the tool for ID 25.19 : 1\n",
            "Recall for this ID :  100.0\n",
            "\n",
            "\n",
            "Actual changes as per the Groundtruth for ID 25.17 : 1\n",
            "Changes captured by the tool for ID 25.17 : 1\n",
            "Recall for this ID :  100.0\n",
            "\n",
            "\n",
            "Actual changes as per the Groundtruth for ID 25.65 : 7\n",
            "Changes captured by the tool for ID 25.65 : 7\n",
            "Recall for this ID :  100.0\n",
            "\n",
            "\n",
            "Actual changes as per the Groundtruth for ID 25.61 : 6\n",
            "Changes captured by the tool for ID 25.61 : 6\n",
            "Recall for this ID :  100.0\n",
            "\n",
            "\n",
            "Actual changes as per the Groundtruth for ID 25.45 : 4\n",
            "Changes captured by the tool for ID 25.45 : 0\n",
            "Recall for this ID :  0.0\n",
            "\n",
            "\n",
            "Actual changes as per the Groundtruth for ID 25.29 : 11\n",
            "Changes captured by the tool for ID 25.29 : 10\n",
            "Recall for this ID :  90.9090909090909\n",
            "\n",
            "\n",
            "Actual changes as per the Groundtruth for ID 25.62 : 3\n",
            "Changes captured by the tool for ID 25.62 : 3\n",
            "Recall for this ID :  100.0\n",
            "\n",
            "\n",
            "Total reacall :  88.09185697343592\n"
          ],
          "name": "stdout"
        }
      ]
    },
    {
      "cell_type": "code",
      "metadata": {
        "colab": {
          "base_uri": "https://localhost:8080/"
        },
        "id": "tzPauIjQTRhf",
        "outputId": "5caf3a9f-428e-4335-8c74-a048b0386939"
      },
      "source": [
        "!pip install tabulate"
      ],
      "execution_count": 234,
      "outputs": [
        {
          "output_type": "stream",
          "text": [
            "Requirement already satisfied: tabulate in /usr/local/lib/python3.7/dist-packages (0.8.9)\n"
          ],
          "name": "stdout"
        }
      ]
    },
    {
      "cell_type": "code",
      "metadata": {
        "colab": {
          "base_uri": "https://localhost:8080/"
        },
        "id": "tXei6JDYTdbK",
        "outputId": "dbacc018-0bc7-4cad-dda3-e66614a01443"
      },
      "source": [
        "from tabulate import tabulate\n",
        "report = pd.DataFrame({'Control_ID':GT_id.keys(),'GrndTruth_changes':GT_id.values(),'LCW_captured_changes':LCW_list,'Recall_ID':IDrecall_list,'Mean_recall':Total_recall})\n",
        "print(tabulate(report, showindex=False, headers=report.columns,tablefmt='grid',numalign='center'))\n",
        " "
      ],
      "execution_count": 236,
      "outputs": [
        {
          "output_type": "stream",
          "text": [
            "+--------------+---------------------+------------------------+-------------+---------------+\n",
            "|  Control_ID  |  GrndTruth_changes  |  LCW_captured_changes  |  Recall_ID  |  Mean_recall  |\n",
            "+==============+=====================+========================+=============+===============+\n",
            "|    25.26     |         16          |           15           |    93.75    |    88.0919    |\n",
            "+--------------+---------------------+------------------------+-------------+---------------+\n",
            "|    25.21     |          9          |           8            |   88.8889   |    88.0919    |\n",
            "+--------------+---------------------+------------------------+-------------+---------------+\n",
            "|    25.27     |         22          |           18           |   81.8182   |    88.0919    |\n",
            "+--------------+---------------------+------------------------+-------------+---------------+\n",
            "|    25.63     |          6          |           6            |     100     |    88.0919    |\n",
            "+--------------+---------------------+------------------------+-------------+---------------+\n",
            "|    25.12     |          5          |           3            |     60      |    88.0919    |\n",
            "+--------------+---------------------+------------------------+-------------+---------------+\n",
            "|    25.25     |         14          |           11           |   78.5714   |    88.0919    |\n",
            "+--------------+---------------------+------------------------+-------------+---------------+\n",
            "|    25.11     |         10          |           10           |     100     |    88.0919    |\n",
            "+--------------+---------------------+------------------------+-------------+---------------+\n",
            "|    25.43     |         16          |           14           |    87.5     |    88.0919    |\n",
            "+--------------+---------------------+------------------------+-------------+---------------+\n",
            "|    25.41     |         13          |           12           |   92.3077   |    88.0919    |\n",
            "+--------------+---------------------+------------------------+-------------+---------------+\n",
            "|    25.44     |          3          |           3            |     100     |    88.0919    |\n",
            "+--------------+---------------------+------------------------+-------------+---------------+\n",
            "|    25.64     |         11          |           11           |     100     |    88.0919    |\n",
            "+--------------+---------------------+------------------------+-------------+---------------+\n",
            "|    25.28     |          1          |           1            |     100     |    88.0919    |\n",
            "+--------------+---------------------+------------------------+-------------+---------------+\n",
            "|    25.19     |          1          |           1            |     100     |    88.0919    |\n",
            "+--------------+---------------------+------------------------+-------------+---------------+\n",
            "|    25.17     |          1          |           1            |     100     |    88.0919    |\n",
            "+--------------+---------------------+------------------------+-------------+---------------+\n",
            "|    25.65     |          7          |           7            |     100     |    88.0919    |\n",
            "+--------------+---------------------+------------------------+-------------+---------------+\n",
            "|    25.61     |          6          |           6            |     100     |    88.0919    |\n",
            "+--------------+---------------------+------------------------+-------------+---------------+\n",
            "|    25.45     |          4          |           0            |      0      |    88.0919    |\n",
            "+--------------+---------------------+------------------------+-------------+---------------+\n",
            "|    25.29     |         11          |           10           |   90.9091   |    88.0919    |\n",
            "+--------------+---------------------+------------------------+-------------+---------------+\n",
            "|    25.62     |          3          |           3            |     100     |    88.0919    |\n",
            "+--------------+---------------------+------------------------+-------------+---------------+\n"
          ],
          "name": "stdout"
        }
      ]
    },
    {
      "cell_type": "code",
      "metadata": {
        "colab": {
          "base_uri": "https://localhost:8080/",
          "height": 638
        },
        "id": "GEAhZLzmRzGe",
        "outputId": "0e06230a-4ad2-4d4e-e498-44f33d0e09a0"
      },
      "source": [
        "report"
      ],
      "execution_count": 232,
      "outputs": [
        {
          "output_type": "execute_result",
          "data": {
            "text/html": [
              "<div>\n",
              "<style scoped>\n",
              "    .dataframe tbody tr th:only-of-type {\n",
              "        vertical-align: middle;\n",
              "    }\n",
              "\n",
              "    .dataframe tbody tr th {\n",
              "        vertical-align: top;\n",
              "    }\n",
              "\n",
              "    .dataframe thead th {\n",
              "        text-align: right;\n",
              "    }\n",
              "</style>\n",
              "<table border=\"1\" class=\"dataframe\">\n",
              "  <thead>\n",
              "    <tr style=\"text-align: right;\">\n",
              "      <th></th>\n",
              "      <th>Control_ID</th>\n",
              "      <th>GrndTruth_changes</th>\n",
              "      <th>LCW_captured_changes</th>\n",
              "      <th>Recall_ID</th>\n",
              "      <th>Mean_recall</th>\n",
              "    </tr>\n",
              "  </thead>\n",
              "  <tbody>\n",
              "    <tr>\n",
              "      <th>0</th>\n",
              "      <td>25.26</td>\n",
              "      <td>16</td>\n",
              "      <td>15</td>\n",
              "      <td>93.750000</td>\n",
              "      <td>88.091857</td>\n",
              "    </tr>\n",
              "    <tr>\n",
              "      <th>1</th>\n",
              "      <td>25.21</td>\n",
              "      <td>9</td>\n",
              "      <td>8</td>\n",
              "      <td>88.888889</td>\n",
              "      <td>88.091857</td>\n",
              "    </tr>\n",
              "    <tr>\n",
              "      <th>2</th>\n",
              "      <td>25.27</td>\n",
              "      <td>22</td>\n",
              "      <td>18</td>\n",
              "      <td>81.818182</td>\n",
              "      <td>88.091857</td>\n",
              "    </tr>\n",
              "    <tr>\n",
              "      <th>3</th>\n",
              "      <td>25.63</td>\n",
              "      <td>6</td>\n",
              "      <td>6</td>\n",
              "      <td>100.000000</td>\n",
              "      <td>88.091857</td>\n",
              "    </tr>\n",
              "    <tr>\n",
              "      <th>4</th>\n",
              "      <td>25.12</td>\n",
              "      <td>5</td>\n",
              "      <td>3</td>\n",
              "      <td>60.000000</td>\n",
              "      <td>88.091857</td>\n",
              "    </tr>\n",
              "    <tr>\n",
              "      <th>5</th>\n",
              "      <td>25.25</td>\n",
              "      <td>14</td>\n",
              "      <td>11</td>\n",
              "      <td>78.571429</td>\n",
              "      <td>88.091857</td>\n",
              "    </tr>\n",
              "    <tr>\n",
              "      <th>6</th>\n",
              "      <td>25.11</td>\n",
              "      <td>10</td>\n",
              "      <td>10</td>\n",
              "      <td>100.000000</td>\n",
              "      <td>88.091857</td>\n",
              "    </tr>\n",
              "    <tr>\n",
              "      <th>7</th>\n",
              "      <td>25.43</td>\n",
              "      <td>16</td>\n",
              "      <td>14</td>\n",
              "      <td>87.500000</td>\n",
              "      <td>88.091857</td>\n",
              "    </tr>\n",
              "    <tr>\n",
              "      <th>8</th>\n",
              "      <td>25.41</td>\n",
              "      <td>13</td>\n",
              "      <td>12</td>\n",
              "      <td>92.307692</td>\n",
              "      <td>88.091857</td>\n",
              "    </tr>\n",
              "    <tr>\n",
              "      <th>9</th>\n",
              "      <td>25.44</td>\n",
              "      <td>3</td>\n",
              "      <td>3</td>\n",
              "      <td>100.000000</td>\n",
              "      <td>88.091857</td>\n",
              "    </tr>\n",
              "    <tr>\n",
              "      <th>10</th>\n",
              "      <td>25.64</td>\n",
              "      <td>11</td>\n",
              "      <td>11</td>\n",
              "      <td>100.000000</td>\n",
              "      <td>88.091857</td>\n",
              "    </tr>\n",
              "    <tr>\n",
              "      <th>11</th>\n",
              "      <td>25.28</td>\n",
              "      <td>1</td>\n",
              "      <td>1</td>\n",
              "      <td>100.000000</td>\n",
              "      <td>88.091857</td>\n",
              "    </tr>\n",
              "    <tr>\n",
              "      <th>12</th>\n",
              "      <td>25.19</td>\n",
              "      <td>1</td>\n",
              "      <td>1</td>\n",
              "      <td>100.000000</td>\n",
              "      <td>88.091857</td>\n",
              "    </tr>\n",
              "    <tr>\n",
              "      <th>13</th>\n",
              "      <td>25.17</td>\n",
              "      <td>1</td>\n",
              "      <td>1</td>\n",
              "      <td>100.000000</td>\n",
              "      <td>88.091857</td>\n",
              "    </tr>\n",
              "    <tr>\n",
              "      <th>14</th>\n",
              "      <td>25.65</td>\n",
              "      <td>7</td>\n",
              "      <td>7</td>\n",
              "      <td>100.000000</td>\n",
              "      <td>88.091857</td>\n",
              "    </tr>\n",
              "    <tr>\n",
              "      <th>15</th>\n",
              "      <td>25.61</td>\n",
              "      <td>6</td>\n",
              "      <td>6</td>\n",
              "      <td>100.000000</td>\n",
              "      <td>88.091857</td>\n",
              "    </tr>\n",
              "    <tr>\n",
              "      <th>16</th>\n",
              "      <td>25.45</td>\n",
              "      <td>4</td>\n",
              "      <td>0</td>\n",
              "      <td>0.000000</td>\n",
              "      <td>88.091857</td>\n",
              "    </tr>\n",
              "    <tr>\n",
              "      <th>17</th>\n",
              "      <td>25.29</td>\n",
              "      <td>11</td>\n",
              "      <td>10</td>\n",
              "      <td>90.909091</td>\n",
              "      <td>88.091857</td>\n",
              "    </tr>\n",
              "    <tr>\n",
              "      <th>18</th>\n",
              "      <td>25.62</td>\n",
              "      <td>3</td>\n",
              "      <td>3</td>\n",
              "      <td>100.000000</td>\n",
              "      <td>88.091857</td>\n",
              "    </tr>\n",
              "  </tbody>\n",
              "</table>\n",
              "</div>"
            ],
            "text/plain": [
              "   Control_ID  GrndTruth_changes  LCW_captured_changes   Recall_ID  Mean_recall\n",
              "0       25.26                 16                    15   93.750000    88.091857\n",
              "1       25.21                  9                     8   88.888889    88.091857\n",
              "2       25.27                 22                    18   81.818182    88.091857\n",
              "3       25.63                  6                     6  100.000000    88.091857\n",
              "4       25.12                  5                     3   60.000000    88.091857\n",
              "5       25.25                 14                    11   78.571429    88.091857\n",
              "6       25.11                 10                    10  100.000000    88.091857\n",
              "7       25.43                 16                    14   87.500000    88.091857\n",
              "8       25.41                 13                    12   92.307692    88.091857\n",
              "9       25.44                  3                     3  100.000000    88.091857\n",
              "10      25.64                 11                    11  100.000000    88.091857\n",
              "11      25.28                  1                     1  100.000000    88.091857\n",
              "12      25.19                  1                     1  100.000000    88.091857\n",
              "13      25.17                  1                     1  100.000000    88.091857\n",
              "14      25.65                  7                     7  100.000000    88.091857\n",
              "15      25.61                  6                     6  100.000000    88.091857\n",
              "16      25.45                  4                     0    0.000000    88.091857\n",
              "17      25.29                 11                    10   90.909091    88.091857\n",
              "18      25.62                  3                     3  100.000000    88.091857"
            ]
          },
          "metadata": {
            "tags": []
          },
          "execution_count": 232
        }
      ]
    },
    {
      "cell_type": "code",
      "metadata": {
        "colab": {
          "base_uri": "https://localhost:8080/",
          "height": 204
        },
        "id": "nMVyLVgLRh0n",
        "outputId": "faff4c41-8ffd-46c1-9649-c4daa61537e8"
      },
      "source": [
        "group_report = report.sort_index().groupby([\"Mean_recall\"]).head()\n",
        "group_report"
      ],
      "execution_count": 230,
      "outputs": [
        {
          "output_type": "execute_result",
          "data": {
            "text/html": [
              "<div>\n",
              "<style scoped>\n",
              "    .dataframe tbody tr th:only-of-type {\n",
              "        vertical-align: middle;\n",
              "    }\n",
              "\n",
              "    .dataframe tbody tr th {\n",
              "        vertical-align: top;\n",
              "    }\n",
              "\n",
              "    .dataframe thead th {\n",
              "        text-align: right;\n",
              "    }\n",
              "</style>\n",
              "<table border=\"1\" class=\"dataframe\">\n",
              "  <thead>\n",
              "    <tr style=\"text-align: right;\">\n",
              "      <th></th>\n",
              "      <th>Control_ID</th>\n",
              "      <th>GrndTruth_changes</th>\n",
              "      <th>LCW_captured_changes</th>\n",
              "      <th>Recall_ID</th>\n",
              "      <th>Mean_recall</th>\n",
              "    </tr>\n",
              "  </thead>\n",
              "  <tbody>\n",
              "    <tr>\n",
              "      <th>0</th>\n",
              "      <td>25.26</td>\n",
              "      <td>16</td>\n",
              "      <td>93.750000</td>\n",
              "      <td>15</td>\n",
              "      <td>88.091857</td>\n",
              "    </tr>\n",
              "    <tr>\n",
              "      <th>1</th>\n",
              "      <td>25.21</td>\n",
              "      <td>9</td>\n",
              "      <td>88.888889</td>\n",
              "      <td>8</td>\n",
              "      <td>88.091857</td>\n",
              "    </tr>\n",
              "    <tr>\n",
              "      <th>2</th>\n",
              "      <td>25.27</td>\n",
              "      <td>22</td>\n",
              "      <td>81.818182</td>\n",
              "      <td>18</td>\n",
              "      <td>88.091857</td>\n",
              "    </tr>\n",
              "    <tr>\n",
              "      <th>3</th>\n",
              "      <td>25.63</td>\n",
              "      <td>6</td>\n",
              "      <td>100.000000</td>\n",
              "      <td>6</td>\n",
              "      <td>88.091857</td>\n",
              "    </tr>\n",
              "    <tr>\n",
              "      <th>4</th>\n",
              "      <td>25.12</td>\n",
              "      <td>5</td>\n",
              "      <td>60.000000</td>\n",
              "      <td>3</td>\n",
              "      <td>88.091857</td>\n",
              "    </tr>\n",
              "  </tbody>\n",
              "</table>\n",
              "</div>"
            ],
            "text/plain": [
              "  Control_ID  GrndTruth_changes  LCW_captured_changes  Recall_ID  Mean_recall\n",
              "0      25.26                 16             93.750000         15    88.091857\n",
              "1      25.21                  9             88.888889          8    88.091857\n",
              "2      25.27                 22             81.818182         18    88.091857\n",
              "3      25.63                  6            100.000000          6    88.091857\n",
              "4      25.12                  5             60.000000          3    88.091857"
            ]
          },
          "metadata": {
            "tags": []
          },
          "execution_count": 230
        }
      ]
    },
    {
      "cell_type": "code",
      "metadata": {
        "id": "twjqE_QN81Gx"
      },
      "source": [
        "def comparison(gt):\n",
        "  Id_flag = 0 \n",
        "  LCW_Total = 0\n",
        "\n",
        "  LCW_Total = LCW_Total + control(gt)\n",
        "  LCW_Total = LCW_Total + cntrlgrp(gt)\n",
        "  LCW_Total = LCW_Total + title(gt)\n",
        "  LCW_Total = LCW_Total + content(gt)\n",
        "  \n",
        "  return(LCW_Total)\n",
        "  "
      ],
      "execution_count": 214,
      "outputs": []
    },
    {
      "cell_type": "code",
      "metadata": {
        "id": "7rYlLMJeFmrE"
      },
      "source": [
        "def content(gt):\n",
        "  LCW_Total = 0          #Local variable\n",
        "\n",
        "  for sub_id in gt['sub_identical']:\n",
        "    for sub in diff:\n",
        "      if (sub['old_id'] == sub_id) & (sub['node_type'] == 'content') & (sub['status'] == 'Identical'):\n",
        "        LCW_Total += 1\n",
        "  for sub_id in gt['sub_added']:\n",
        "    for sub in diff:\n",
        "      if (sub['new_id'] == sub_id) & (sub['node_type'] == 'content') & (sub['status'] == 'Added') :\n",
        "        LCW_Total += 1\n",
        "  for sub_id in gt['sub_removed']:\n",
        "    for sub in diff:\n",
        "      if (sub['old_id'] == sub_id) & (sub['node_type'] == 'content') & (sub['status'] == 'Removed') :\n",
        "        LCW_Total += 1\n",
        "  for sub_id in gt['sub_modified']:\n",
        "    for sub in diff:\n",
        "      if (sub['old_id'] == sub_id) & (sub['node_type'] == 'content') & (sub['status'] == 'Modified') :\n",
        "        LCW_Total += 1\n",
        "\n",
        "  return(LCW_Total)"
      ],
      "execution_count": 215,
      "outputs": []
    },
    {
      "cell_type": "code",
      "metadata": {
        "id": "OsdVkVRqdwYK"
      },
      "source": [
        "def control(gt):\n",
        "  LCW_Total = 0        #local variable\n",
        "  Id_flag = 0\n",
        "  for df in diff:  \n",
        "    \n",
        "    if (gt[\"id\"] == df[\"old_id\"]) & (df['node_type'] == 'control') & (Id_flag == 0):\n",
        "      \n",
        "      if gt['type'] == df['status']:\n",
        "        LCW_Total +=1\n",
        "        Id_flag = 1\n",
        "      \n",
        "      Id_flag = 0\n",
        "      if (df['new_id'] != '') & (df['old_id'] != df['new_id']) &  (gt['IdChange'] =='true') & (Id_flag == 0):\n",
        "        LCW_Total +=1\n",
        "        Id_flag = 1\n",
        "\n",
        "    if (gt['id'] == df['new_id']) & (gt['type'] == df['status']):\n",
        "      LCW_Total +=1\n",
        "\n",
        "  return(LCW_Total)\n",
        "\n",
        "    "
      ],
      "execution_count": 216,
      "outputs": []
    },
    {
      "cell_type": "code",
      "metadata": {
        "id": "r-X0IaRejvQY"
      },
      "source": [
        "def cntrlgrp(gt):\n",
        "  LCW_Total = 0                 #Local variable  \n",
        "  cntrl_grp = gt['id'] + '_cntlGrp'\n",
        "  #print(cntrl_grp) \n",
        "  Id_flag = 0      \n",
        "  for df in diff:   \n",
        "        \n",
        "    if (gt['Cntrl_Grp_Change'] == 'true') & (df['node_type'] == 'control_field') & (df['old_id'] == cntrl_grp) & (Id_flag == 0) : \n",
        "       \n",
        "      if df['status'] == 'Modified':\n",
        "        LCW_Total +=1\n",
        "        Id_flag = 1\n",
        "  return(LCW_Total) "
      ],
      "execution_count": 217,
      "outputs": []
    },
    {
      "cell_type": "code",
      "metadata": {
        "id": "2Q0XPom57HBQ"
      },
      "source": [
        "def title(gt):\n",
        "  LCW_Total = 0                 #Local variable\n",
        "  title = gt['id'] + '_title'\n",
        "  #print(title)   \n",
        "  Id_flag = 0    \n",
        "  for df in diff:   \n",
        "       \n",
        "    if (gt['Title_Change'] == 'true') & (df['node_type'] == 'control_field') & (df['old_id'] == title) & (Id_flag == 0): \n",
        "       \n",
        "      if df['status'] == 'Modified':\n",
        "        LCW_Total +=1\n",
        "        Id_flag = 1\n",
        "  return(LCW_Total) "
      ],
      "execution_count": 218,
      "outputs": []
    }
  ]
}