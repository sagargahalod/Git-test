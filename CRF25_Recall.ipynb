{
  "nbformat": 4,
  "nbformat_minor": 0,
  "metadata": {
    "colab": {
      "name": "CRF25-Recall.ipynb",
      "provenance": [],
      "collapsed_sections": [],
      "authorship_tag": "ABX9TyPAPxB78XSIVaw+CKNf2BVZ",
      "include_colab_link": true
    },
    "kernelspec": {
      "name": "python3",
      "display_name": "Python 3"
    },
    "language_info": {
      "name": "python"
    }
  },
  "cells": [
    {
      "cell_type": "markdown",
      "metadata": {
        "id": "view-in-github",
        "colab_type": "text"
      },
      "source": [
        "<a href=\"https://colab.research.google.com/github/sagargahalod/Git-test/blob/branch1/CRF25_Recall.ipynb\" target=\"_parent\"><img src=\"https://colab.research.google.com/assets/colab-badge.svg\" alt=\"Open In Colab\"/></a>"
      ]
    },
    {
      "cell_type": "code",
      "metadata": {
        "id": "UR1dEP9h487p"
      },
      "source": [
        "import json\n",
        "import pandas as pd"
      ],
      "execution_count": 81,
      "outputs": []
    },
    {
      "cell_type": "code",
      "metadata": {
        "id": "eV2lUrYi5dC0"
      },
      "source": [
        "with open(\"CFR25_GroundTruth.json\", encoding='utf-8', errors='ignore') as json_data:\n",
        "    GT = json.load(json_data, strict=False)\n",
        "\n",
        "\n"
      ],
      "execution_count": 85,
      "outputs": []
    },
    {
      "cell_type": "code",
      "metadata": {
        "id": "5k2gmTRX5ix4"
      },
      "source": [
        "with open(\"CFR25_diff.json\", encoding='utf-8', errors='ignore') as json_data1:\n",
        "    diff = json.load(json_data1, strict=False)\n",
        "\n"
      ],
      "execution_count": 86,
      "outputs": []
    },
    {
      "cell_type": "code",
      "metadata": {
        "id": "ydi4pW2L5lN_"
      },
      "source": [
        "LCW_Total = GT_Total = 0\n",
        "\n",
        "Add_tot = Del_tol = Mod_tot = Identical_tot = 0\n",
        "\n",
        "Mean_list = []"
      ],
      "execution_count": 84,
      "outputs": []
    },
    {
      "cell_type": "code",
      "metadata": {
        "colab": {
          "base_uri": "https://localhost:8080/"
        },
        "id": "EY3eUBQ1Nu0a",
        "outputId": "9ad2322a-d4c8-4e6b-8472-dcb224cb508d"
      },
      "source": [
        "l1 = [1,2,3,4,5]\n",
        "\n",
        "print(sum(l1)/len(l1))"
      ],
      "execution_count": 166,
      "outputs": [
        {
          "output_type": "stream",
          "text": [
            "3.0\n"
          ],
          "name": "stdout"
        }
      ]
    },
    {
      "cell_type": "code",
      "metadata": {
        "id": "kTAgoBP1VHw-"
      },
      "source": [
        "def Recall(LCW_Total,GT_Total):\n",
        "  #calculation id level average\n",
        "  Idrecall = LCW_Total / GT_Total\n",
        "  print('The recall for id {0} is : {1}'.format(GT_Total.key,Idrecall))\n",
        "  Mean_list.append(Idrecall)\n",
        "  \n",
        "  \n",
        "  #calculation mean recall\n",
        "  Meanrecall = sum(Mean_list) / len(Mean_list)\n",
        "  print('The mean recall across the controls : {}'.format(Meanrecal))\n",
        "  return Idrecall , Meanrecall"
      ],
      "execution_count": 167,
      "outputs": []
    },
    {
      "cell_type": "code",
      "metadata": {
        "id": "t9lPX85y5p_u"
      },
      "source": [
        "for gt in GT:\n",
        "  if gt['id'] in ('Added','Deleted','Identical'):\n",
        "    GT_Total =+1 \n",
        "    #Recall(Tot)"
      ],
      "execution_count": 88,
      "outputs": []
    },
    {
      "cell_type": "code",
      "metadata": {
        "colab": {
          "base_uri": "https://localhost:8080/"
        },
        "id": "Sj4gBb5gTiY1",
        "outputId": "efc107ff-7115-4168-f250-6c7f9181d1ee"
      },
      "source": [
        "GT_Total = 0\n",
        "GT_id = {}\n",
        "IDrecall_list = []\n",
        "for gt in GT:\n",
        "\n",
        "  if gt['type'] == 'Modified':  \n",
        "    GT_Total +=1     \n",
        "  if gt['IdChange'] == \"true\":\n",
        "    GT_Total +=1  \n",
        "  if gt['Cntrl_Grp_Change'] == 'true':\n",
        "    GT_Total +=1    \n",
        "  if gt['Title_Change'] == 'true':\n",
        "    GT_Total +=1\n",
        "    \n",
        "  #counting the changes related to subpart level\n",
        "   \n",
        "  GT_Total = GT_Total + len(gt['sub_identical']) + len(gt['sub_added']) + len(gt['sub_removed']) + len(gt['sub_modified'])\n",
        "  GT_id[gt['id']] = GT_Total \n",
        "\n",
        "  print('Actual changes as per the Groundtruth for ID {0} : {1}'.format(gt['id'],GT_Total)) \n",
        "   \n",
        "  \n",
        "  Tool_result = comparison(gt)\n",
        "  print('Changes captured by the tool for ID {0} : {1}'.format(gt['id'],Tool_result))\n",
        "\n",
        "  ID_recall = (Tool_result/GT_Total)*100\n",
        "  \n",
        "  print('Recall for this ID : ',ID_recall)\n",
        "  print('\\n')\n",
        "  IDrecall_list.append(ID_recall)\n",
        "  GT_Total = 0\n",
        "\n",
        "Total_recall = sum(IDrecall_list)/len(IDrecall_list) \n",
        "print('Total reacall : ',Total_recall)"
      ],
      "execution_count": 194,
      "outputs": [
        {
          "output_type": "stream",
          "text": [
            "Actual changes as per the Groundtruth for ID 25.26 : 16\n",
            "Changes captured by the tool for ID 25.26 : 15\n",
            "Recall for this ID :  93.75\n",
            "\n",
            "\n",
            "Actual changes as per the Groundtruth for ID 25.21 : 10\n",
            "Changes captured by the tool for ID 25.21 : 8\n",
            "Recall for this ID :  80.0\n",
            "\n",
            "\n",
            "Actual changes as per the Groundtruth for ID 25.27 : 24\n",
            "Changes captured by the tool for ID 25.27 : 13\n",
            "Recall for this ID :  54.166666666666664\n",
            "\n",
            "\n",
            "Actual changes as per the Groundtruth for ID 25.63 : 6\n",
            "Changes captured by the tool for ID 25.63 : 6\n",
            "Recall for this ID :  100.0\n",
            "\n",
            "\n",
            "Actual changes as per the Groundtruth for ID 25.12 : 5\n",
            "Changes captured by the tool for ID 25.12 : 2\n",
            "Recall for this ID :  40.0\n",
            "\n",
            "\n",
            "Actual changes as per the Groundtruth for ID 25.25 : 13\n",
            "Changes captured by the tool for ID 25.25 : 8\n",
            "Recall for this ID :  61.53846153846154\n",
            "\n",
            "\n",
            "Actual changes as per the Groundtruth for ID 25.11 : 10\n",
            "Changes captured by the tool for ID 25.11 : 10\n",
            "Recall for this ID :  100.0\n",
            "\n",
            "\n",
            "Actual changes as per the Groundtruth for ID 25.43 : 16\n",
            "Changes captured by the tool for ID 25.43 : 14\n",
            "Recall for this ID :  87.5\n",
            "\n",
            "\n",
            "Actual changes as per the Groundtruth for ID 25.41 : 12\n",
            "Changes captured by the tool for ID 25.41 : 9\n",
            "Recall for this ID :  75.0\n",
            "\n",
            "\n",
            "Actual changes as per the Groundtruth for ID 25.44 : 3\n",
            "Changes captured by the tool for ID 25.44 : 3\n",
            "Recall for this ID :  100.0\n",
            "\n",
            "\n",
            "Actual changes as per the Groundtruth for ID 25.64 : 11\n",
            "Changes captured by the tool for ID 25.64 : 11\n",
            "Recall for this ID :  100.0\n",
            "\n",
            "\n",
            "Actual changes as per the Groundtruth for ID 25.28 : 14\n",
            "Changes captured by the tool for ID 25.28 : 0\n",
            "Recall for this ID :  0.0\n",
            "\n",
            "\n",
            "Actual changes as per the Groundtruth for ID 25.65 : 7\n",
            "Changes captured by the tool for ID 25.65 : 7\n",
            "Recall for this ID :  100.0\n",
            "\n",
            "\n",
            "Actual changes as per the Groundtruth for ID 25.61 : 6\n",
            "Changes captured by the tool for ID 25.61 : 6\n",
            "Recall for this ID :  100.0\n",
            "\n",
            "\n",
            "Actual changes as per the Groundtruth for ID 25.45 : 4\n",
            "Changes captured by the tool for ID 25.45 : 0\n",
            "Recall for this ID :  0.0\n",
            "\n",
            "\n",
            "Actual changes as per the Groundtruth for ID 25.29 : 11\n",
            "Changes captured by the tool for ID 25.29 : 10\n",
            "Recall for this ID :  90.9090909090909\n",
            "\n",
            "\n",
            "Actual changes as per the Groundtruth for ID 25.62 : 3\n",
            "Changes captured by the tool for ID 25.62 : 3\n",
            "Recall for this ID :  100.0\n",
            "\n",
            "\n",
            "Total reacall :  75.46260112436583\n"
          ],
          "name": "stdout"
        }
      ]
    },
    {
      "cell_type": "code",
      "metadata": {
        "id": "twjqE_QN81Gx"
      },
      "source": [
        "def comparison(gt):\n",
        "  Id_flag = 0 \n",
        "  LCW_Total = 0\n",
        "\n",
        "  LCW_Total = LCW_Total + control(gt)\n",
        "  LCW_Total = LCW_Total + cntrlgrp(gt)\n",
        "  LCW_Total = LCW_Total + title(gt)\n",
        "  LCW_Total = LCW_Total + content(gt)\n",
        "  \n",
        "  return(LCW_Total)\n",
        "  "
      ],
      "execution_count": 159,
      "outputs": []
    },
    {
      "cell_type": "code",
      "metadata": {
        "id": "7rYlLMJeFmrE"
      },
      "source": [
        "def content(gt):\n",
        "  LCW_Total = 0          #Local variable\n",
        "\n",
        "  for sub_id in gt['sub_identical']:\n",
        "    for sub in diff:\n",
        "      if (sub['old_id'] == sub_id) & (sub['node_type'] == 'content') & (sub['status'] == 'Identical'):\n",
        "        LCW_Total += 1\n",
        "  for sub_id in gt['sub_added']:\n",
        "    for sub in diff:\n",
        "      if (sub['new_id'] == sub_id) & (sub['node_type'] == 'content') & (sub['status'] == 'Added') :\n",
        "        LCW_Total += 1\n",
        "  for sub_id in gt['sub_removed']:\n",
        "    for sub in diff:\n",
        "      if (sub['old_id'] == sub_id) & (sub['node_type'] == 'content') & (sub['status'] == 'Removed') :\n",
        "        LCW_Total += 1\n",
        "  for sub_id in gt['sub_modified']:\n",
        "    for sub in diff:\n",
        "      if (sub['old_id'] == sub_id) & (sub['node_type'] == 'content') & (sub['status'] == 'Modified') :\n",
        "        LCW_Total += 1\n",
        "\n",
        "  return(LCW_Total)"
      ],
      "execution_count": 171,
      "outputs": []
    },
    {
      "cell_type": "code",
      "metadata": {
        "id": "OsdVkVRqdwYK"
      },
      "source": [
        "def control(gt):\n",
        "  LCW_Total = 0        #local variable\n",
        "  Id_flag = 0\n",
        "  for df in diff:  \n",
        "    \n",
        "    if (gt[\"id\"] == df[\"old_id\"]) & (df['node_type'] == 'control') & (Id_flag == 0):\n",
        "      \n",
        "      if gt['type'] == df['status']:\n",
        "        LCW_Total +=1\n",
        "        Id_flag = 1\n",
        "      \n",
        "      Id_flag = 0\n",
        "      if (df['new_id'] != '') & (df['old_id'] != df['new_id']) &  (gt['IdChange'] =='true') & (Id_flag == 0):\n",
        "        LCW_Total +=1\n",
        "        Id_flag = 1\n",
        "\n",
        "  return(LCW_Total)\n",
        "\n",
        "    "
      ],
      "execution_count": 170,
      "outputs": []
    },
    {
      "cell_type": "code",
      "metadata": {
        "id": "r-X0IaRejvQY"
      },
      "source": [
        "def cntrlgrp(gt):\n",
        "  LCW_Total = 0                 #Local variable  \n",
        "  cntrl_grp = gt['id'] + '_cntlGrp'\n",
        "  #print(cntrl_grp) \n",
        "  Id_flag = 0      \n",
        "  for df in diff:   \n",
        "        \n",
        "    if (gt['Cntrl_Grp_Change'] == 'true') & (df['node_type'] == 'control_field') & (df['old_id'] == cntrl_grp) & (Id_flag == 0) : \n",
        "       \n",
        "      if df['status'] == 'Modified':\n",
        "        LCW_Total +=1\n",
        "        Id_flag = 1\n",
        "  return(LCW_Total) "
      ],
      "execution_count": 169,
      "outputs": []
    },
    {
      "cell_type": "code",
      "metadata": {
        "id": "2Q0XPom57HBQ"
      },
      "source": [
        "def title(gt):\n",
        "  LCW_Total = 0                 #Local variable\n",
        "  title = gt['id'] + '_title'\n",
        "  #print(title)   \n",
        "  Id_flag = 0    \n",
        "  for df in diff:   \n",
        "       \n",
        "    if (gt['Title_Change'] == 'true') & (df['node_type'] == 'control_field') & (df['old_id'] == title) & (Id_flag == 0): \n",
        "       \n",
        "      if df['status'] == 'Modified':\n",
        "        LCW_Total +=1\n",
        "        Id_flag = 1\n",
        "  return(LCW_Total) "
      ],
      "execution_count": 168,
      "outputs": []
    }
  ]
}